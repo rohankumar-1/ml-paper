{
 "cells": [
  {
   "cell_type": "code",
   "execution_count": 952,
   "id": "07e8a22b-738a-4ccb-9e3b-f39dd0e653f3",
   "metadata": {},
   "outputs": [
    {
     "name": "stdout",
     "output_type": "stream",
     "text": [
      "cpu\n"
     ]
    }
   ],
   "source": [
    "import torch\n",
    "import torch.nn as nn\n",
    "import numpy as np\n",
    "\n",
    "# set device for pytorch\n",
    "device = torch.device(\"cuda:0\" if torch.cuda.is_available() else \"cpu\")\n",
    "print(device)"
   ]
  },
  {
   "cell_type": "code",
   "execution_count": 953,
   "id": "0085ee2d",
   "metadata": {},
   "outputs": [],
   "source": [
    "LENGTH = 6"
   ]
  },
  {
   "cell_type": "markdown",
   "id": "85548d3e-dbb8-4c2b-821d-c32db6a0e4f3",
   "metadata": {},
   "source": [
    "# Get Data (Shakespeare)"
   ]
  },
  {
   "cell_type": "code",
   "execution_count": 954,
   "id": "409cc6a9-0837-453f-8b71-b25894d39517",
   "metadata": {},
   "outputs": [
    {
     "name": "stdout",
     "output_type": "stream",
     "text": [
      "THE\n",
      "SONNETS\n",
      "by\n",
      "William\n",
      "Shakespeare\n",
      "F\n",
      "60\n"
     ]
    }
   ],
   "source": [
    "# store text in one long string called 'data'\n",
    "f = open(\"./shakespeare.txt\")\n",
    "data = f.read()\n",
    "data = data.replace('\\n', ' ')\n",
    "data = data.replace(' ', '\\n')\n",
    "data = data.replace('\\n\\n', '\\n')\n",
    "print(data[:36])\n",
    "print(len(set(data)))"
   ]
  },
  {
   "cell_type": "code",
   "execution_count": 955,
   "id": "369d9051-9a12-43f7-af76-025041fbe5cd",
   "metadata": {},
   "outputs": [
    {
     "name": "stdout",
     "output_type": "stream",
     "text": [
      "{'.': 0, 'n': 1, 'U': 2, 't': 3, 's': 4, 'K': 5, 'q': 6, 'u': 7, 'g': 8, 'F': 9, 'O': 10, 'N': 11, 'E': 12, 'v': 13, 'e': 14, 'w': 15, 'B': 16, '-': 17, 'W': 18, 'z': 19, ';': 20, '!': 21, ',': 22, 'j': 23, 'r': 24, 'D': 25, 'G': 26, 'l': 27, ')': 28, 'P': 29, 'c': 30, '\\n': 31, 'd': 32, 'M': 33, 'p': 34, 'h': 35, ':': 36, 'T': 37, 'C': 38, 'Y': 39, 'H': 40, 'S': 41, 'y': 42, 'b': 43, 'R': 44, 'a': 45, 'm': 46, 'V': 47, 'i': 48, 'o': 49, \"'\": 50, 'f': 51, 'L': 52, '?': 53, '(': 54, 'A': 55, 'I': 56, 'k': 57, 'J': 58, 'x': 59}\n",
      "{0: '.', 1: 'n', 2: 'U', 3: 't', 4: 's', 5: 'K', 6: 'q', 7: 'u', 8: 'g', 9: 'F', 10: 'O', 11: 'N', 12: 'E', 13: 'v', 14: 'e', 15: 'w', 16: 'B', 17: '-', 18: 'W', 19: 'z', 20: ';', 21: '!', 22: ',', 23: 'j', 24: 'r', 25: 'D', 26: 'G', 27: 'l', 28: ')', 29: 'P', 30: 'c', 31: '\\n', 32: 'd', 33: 'M', 34: 'p', 35: 'h', 36: ':', 37: 'T', 38: 'C', 39: 'Y', 40: 'H', 41: 'S', 42: 'y', 43: 'b', 44: 'R', 45: 'a', 46: 'm', 47: 'V', 48: 'i', 49: 'o', 50: \"'\", 51: 'f', 52: 'L', 53: '?', 54: '(', 55: 'A', 56: 'I', 57: 'k', 58: 'J', 59: 'x'}\n"
     ]
    }
   ],
   "source": [
    "# create dictionary to one-hot encode each characters to\n",
    "ctoi = {c:i for i, c in enumerate(set(data))}\n",
    "itoc = {i:c for i, c in enumerate(set(data))}\n",
    "print(ctoi)\n",
    "print(itoc)"
   ]
  },
  {
   "cell_type": "code",
   "execution_count": 956,
   "id": "5aa53198",
   "metadata": {},
   "outputs": [
    {
     "name": "stdout",
     "output_type": "stream",
     "text": [
      "[[37, 40, 12, 31, 41, 10], [40, 12, 31, 41, 10, 11], [12, 31, 41, 10, 11, 11], [31, 41, 10, 11, 11, 12], [41, 10, 11, 11, 12, 37]]\n",
      "[11, 11, 12, 37, 41]\n",
      "torch.Size([93911, 6])\n",
      "torch.Size([93911])\n",
      "torch.Size([93911, 6, 60])\n",
      "torch.Size([93911, 60])\n"
     ]
    }
   ],
   "source": [
    "# create datapoints of data (3 chars), target (3 chars)\n",
    "x_train = []\n",
    "y_train = []\n",
    "for i in range(len(data[:-(LENGTH+1)])):\n",
    "    x_train.append([ctoi[x] for x in list(data[i:i+LENGTH])])\n",
    "    y_train.append(ctoi[data[i+LENGTH]])\n",
    "    \n",
    "print(x_train[0:5])\n",
    "print(y_train[0:5])\n",
    "\n",
    "# to tensor\n",
    "x_train = torch.Tensor(x_train)\n",
    "y_train = torch.Tensor(y_train)\n",
    "print(x_train.shape)\n",
    "print(y_train.shape)\n",
    "\n",
    "# to one_hot\n",
    "x_train = nn.functional.one_hot(x_train.long()).float()\n",
    "y_train = nn.functional.one_hot(y_train.long()).float()\n",
    "print(x_train.shape)\n",
    "print(y_train.shape)"
   ]
  },
  {
   "cell_type": "code",
   "execution_count": 957,
   "id": "a10c2f8e",
   "metadata": {},
   "outputs": [],
   "source": [
    "x_encoded = nn.functional.one_hot(torch.Tensor([ctoi[x] for x in data]).long()).float()"
   ]
  },
  {
   "cell_type": "markdown",
   "id": "9112fb62-9ed1-4a51-9be7-7398235b6c01",
   "metadata": {},
   "source": [
    "# Build RNN"
   ]
  },
  {
   "cell_type": "code",
   "execution_count": 958,
   "id": "8fad76b8-edeb-47ca-ad8d-14dc6417a08a",
   "metadata": {},
   "outputs": [],
   "source": [
    "\n",
    "class RNN(nn.Module):\n",
    "    def __init__(self, input_len, input_dim, hidden_dim):\n",
    "        super(RNN, self).__init__()\n",
    "        self.hidden_dim = hidden_dim\n",
    "        self.lin_ht = nn.Linear((input_len*input_dim)+self.hidden_dim, self.hidden_dim)\n",
    "        self.lin_out = nn.Linear(self.hidden_dim, input_dim)\n",
    "    \n",
    "    def forward(self, x, hidden):\n",
    "        if hidden == None:\n",
    "            hidden = torch.randn((self.hidden_dim)).to(device)\n",
    "        \n",
    "        x = x.flatten()\n",
    "        xh = torch.cat((x, hidden))\n",
    "        \n",
    "        ht = (self.lin_ht(xh)).tanh()\n",
    "        ot = nn.functional.softmax(self.lin_out(ht), dim=0)\n",
    "        \n",
    "        return ht, ot\n",
    "        "
   ]
  },
  {
   "cell_type": "code",
   "execution_count": 959,
   "id": "c16d3365-0fc6-4b4e-a7db-16cf52ac89df",
   "metadata": {},
   "outputs": [],
   "source": [
    "model = RNN(LENGTH, 60, 800)"
   ]
  },
  {
   "cell_type": "markdown",
   "id": "fcbedcb9-a5b7-43ce-989c-5f7850f7d696",
   "metadata": {},
   "source": [
    "# Set System Standards"
   ]
  },
  {
   "cell_type": "code",
   "execution_count": 960,
   "id": "494ca9bd-34b4-4c0a-9020-25292afe50a2",
   "metadata": {},
   "outputs": [],
   "source": [
    "# set loss function as cross entropy loss, optimizer and SGD\n",
    "criterion = nn.CrossEntropyLoss(label_smoothing=0.2)\n",
    "optimizer = torch.optim.SGD(model.parameters(), lr=1e-3)"
   ]
  },
  {
   "cell_type": "code",
   "execution_count": 961,
   "id": "bae6b78b-639a-4d64-b078-f77d379d6a31",
   "metadata": {},
   "outputs": [],
   "source": [
    "# move everything to CUDA (if possible)\n",
    "model = model.to(device)\n",
    "x_train = x_train.to(device)\n",
    "y_train = y_train.to(device)"
   ]
  },
  {
   "cell_type": "code",
   "execution_count": 962,
   "id": "5ebbb760-c30f-4974-b6e8-5f73ba6328f2",
   "metadata": {},
   "outputs": [],
   "source": [
    "from tqdm import trange\n",
    "\n",
    "def train(model, criterion, optimizer, data, target):\n",
    "\n",
    "    hidden = None\n",
    "    correct = 0\n",
    "    \n",
    "    # set to train mode\n",
    "    model.train()\n",
    "    for i in trange(len(data)):\n",
    "        \n",
    "        # label is the current char data[i] and input is the previous char data[i-1]\n",
    "        optimizer.zero_grad()\n",
    "        hidden, pred = model(data[i], None if hidden==None else hidden.detach())\n",
    "        loss = criterion(pred, target[i])\n",
    "        \n",
    "        correct += np.argmax(pred.tolist())==np.argmax(target[i].tolist())\n",
    "\n",
    "        # grad. descent\n",
    "        loss.backward()\n",
    "        optimizer.step()\n",
    "        \n",
    "        if (i+1)%30000==0:\n",
    "            print(f\"accuracy={correct/30000.0}\")\n",
    "            correct = 0\n",
    "        "
   ]
  },
  {
   "cell_type": "code",
   "execution_count": 963,
   "id": "b9b6aeb1-4e91-45a4-9e05-d8ac5c1fc148",
   "metadata": {},
   "outputs": [
    {
     "name": "stdout",
     "output_type": "stream",
     "text": [
      "Epoch 0 -----------------------------------\n"
     ]
    },
    {
     "name": "stderr",
     "output_type": "stream",
     "text": [
      " 32%|███▏      | 30169/93911 [00:19<00:38, 1642.49it/s]"
     ]
    },
    {
     "name": "stdout",
     "output_type": "stream",
     "text": [
      "accuracy=0.06336666666666667\n"
     ]
    },
    {
     "name": "stderr",
     "output_type": "stream",
     "text": [
      " 64%|██████▍   | 60159/93911 [00:37<00:21, 1599.72it/s]"
     ]
    },
    {
     "name": "stdout",
     "output_type": "stream",
     "text": [
      "accuracy=0.17876666666666666\n"
     ]
    },
    {
     "name": "stderr",
     "output_type": "stream",
     "text": [
      " 96%|█████████▌| 90239/93911 [00:56<00:02, 1651.47it/s]"
     ]
    },
    {
     "name": "stdout",
     "output_type": "stream",
     "text": [
      "accuracy=0.19133333333333333\n"
     ]
    },
    {
     "name": "stderr",
     "output_type": "stream",
     "text": [
      "100%|██████████| 93911/93911 [00:58<00:00, 1596.87it/s]\n"
     ]
    }
   ],
   "source": [
    "epochs = 1\n",
    "for t in range(epochs):\n",
    "    print(f\"Epoch {t} -----------------------------------\")\n",
    "    train(model, criterion, optimizer, x_train, y_train)"
   ]
  },
  {
   "cell_type": "markdown",
   "id": "5339b22e-6984-4af5-a158-ee18cbebc9e1",
   "metadata": {},
   "source": [
    "# Generate Text from Trained Model"
   ]
  },
  {
   "cell_type": "code",
   "execution_count": 964,
   "id": "c49ff6bd-1291-4514-ab83-238fce04253d",
   "metadata": {},
   "outputs": [],
   "source": [
    "# switch to eval mode here to prevent gradients from being calculated\n",
    "model.eval()\n",
    "\n",
    "# extra characters to make\n",
    "generate_size = 20\n",
    "\n",
    "# keep running\n",
    "start = 250\n",
    "text = x_encoded[start:start+LENGTH+1]\n",
    "text = text.reshape(len(text), 60)\n",
    "\n",
    "hidden = None\n",
    "for i in range(generate_size):\n",
    "    hidden, next_chr = model(text[i:i+LENGTH], hidden)\n",
    "    \n",
    "    nt = torch.zeros((1, next_chr.shape[0]))\n",
    "    nt[0, (next_chr.detach().numpy())] = 1\n",
    "    \n",
    "    text = torch.cat((text, nt), dim=0)\n",
    "\n",
    "text_real = [itoc[np.argmax(text[i].tolist())] for i in range(len(text))]"
   ]
  },
  {
   "cell_type": "code",
   "execution_count": 965,
   "id": "ebc1a780",
   "metadata": {},
   "outputs": [
    {
     "name": "stdout",
     "output_type": "stream",
     "text": [
      "ed'st\n",
      "t....................\n"
     ]
    }
   ],
   "source": [
    "print(''.join(text_real))"
   ]
  },
  {
   "cell_type": "code",
   "execution_count": null,
   "id": "1e4c803e",
   "metadata": {},
   "outputs": [],
   "source": []
  }
 ],
 "metadata": {
  "kernelspec": {
   "display_name": "gends",
   "language": "python",
   "name": "python3"
  },
  "language_info": {
   "codemirror_mode": {
    "name": "ipython",
    "version": 3
   },
   "file_extension": ".py",
   "mimetype": "text/x-python",
   "name": "python",
   "nbconvert_exporter": "python",
   "pygments_lexer": "ipython3",
   "version": "3.9.6"
  }
 },
 "nbformat": 4,
 "nbformat_minor": 5
}
